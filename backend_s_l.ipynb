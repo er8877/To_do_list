{
 "cells": [
  {
   "cell_type": "code",
   "execution_count": 4,
   "metadata": {},
   "outputs": [],
   "source": [
    "import mysql.connector\n",
    "\n",
    "def connect_db():\n",
    "    connect2 = mysql.connector.connect(\n",
    "        host='localhost', \n",
    "        user='root', \n",
    "        database='works'\n",
    "    )\n",
    "    return connect2\n",
    "\n",
    "def id_maker():\n",
    "    con = connect_db()\n",
    "    cursor = con.cursor()\n",
    "    db_prompt = '''SELECT `id` FROM `users` WHERE id=(SELECT Max(id) FROM `users` )'''\n",
    "    cursor.execute(db_prompt)\n",
    "    current_id = cursor.fetchall()\n",
    "    if current_id:\n",
    "        return current_id[0][0] + 1\n",
    "    else:\n",
    "        return 1\n",
    "\n",
    "def insert_user_data(username, password):\n",
    "    con = connect_db()\n",
    "    cursor = con.cursor()\n",
    "    d_id = id_maker()\n",
    "    query = \"\"\"INSERT INTO `users`(id, user_name, password) VALUES(%s, %s, %s)\"\"\"\n",
    "    val = (d_id, username, password)\n",
    "    cursor.execute(query, val)\n",
    "    con.commit()\n",
    "    con.close()\n",
    "\n",
    "def select_valid_usernames():\n",
    "    con = connect_db()\n",
    "    query = \"\"\"SELECT user_name FROM users\"\"\"\n",
    "    cursor = con.cursor()\n",
    "    cursor.execute(query)\n",
    "    values = cursor.fetchall()\n",
    "    cursor.close()\n",
    "\n",
    "    return [v[0] for v in values]\n",
    "\n",
    "def send_user_info(username, password):\n",
    "    select_usernames = select_valid_usernames()\n",
    "    if username not in select_usernames:\n",
    "        insert_user_data(username, password)\n",
    "        return True\n",
    "    else:\n",
    "        print(\"Invalid username\")\n",
    "        return False\n",
    "\n",
    "\n",
    "username = input(\"Enter your username : \")\n",
    "password = input(\"Enter your password : \")\n",
    "while not send_user_info(username, password):\n",
    "    username = input(\"Enter your username : \")\n",
    "    password = input(\"Enter your password : \")"
   ]
  },
  {
   "cell_type": "code",
   "execution_count": null,
   "metadata": {},
   "outputs": [],
   "source": []
  }
 ],
 "metadata": {
  "kernelspec": {
   "display_name": "Python 3",
   "language": "python",
   "name": "python3"
  },
  "language_info": {
   "codemirror_mode": {
    "name": "ipython",
    "version": 3
   },
   "file_extension": ".py",
   "mimetype": "text/x-python",
   "name": "python",
   "nbconvert_exporter": "python",
   "pygments_lexer": "ipython3",
   "version": "3.11.7"
  }
 },
 "nbformat": 4,
 "nbformat_minor": 2
}
