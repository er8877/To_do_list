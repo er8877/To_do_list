{
 "cells": [
  {
   "cell_type": "code",
   "execution_count": null,
   "metadata": {},
   "outputs": [],
   "source": [
    "# This will import all the widgets\n",
    "# and modules which are available in\n",
    "# tkinter and ttk module\n",
    "from tkinter import *\n",
    "from tkinter.ttk import *\n",
    "\n",
    "# creates a Tk() object\n",
    "master = Tk()\n",
    "\n",
    "# sets the geometry of main \n",
    "# root window\n",
    "master.geometry(\"200x200\")\n",
    "\n",
    "\n",
    "# function to open a new window \n",
    "# on a button click\n",
    "def openNewWindow():\n",
    "\t\n",
    "\t# Toplevel object which will \n",
    "\t# be treated as a new window\n",
    "\tnewWindow = Toplevel(master)\n",
    "\n",
    "\t# sets the title of the\n",
    "\t# Toplevel widget\n",
    "\tnewWindow.title(\"New Window\")\n",
    "\n",
    "\t# sets the geometry of toplevel\n",
    "\tnewWindow.geometry(\"200x200\")\n",
    "\n",
    "\t# A Label widget to show in toplevel\n",
    "\tLabel(newWindow, \n",
    "\t\ttext =\"This is a new window\").pack()\n",
    "\n",
    "\n",
    "label = Label(master, \n",
    "\t\t\ttext =\"This is the main window\")\n",
    "\n",
    "label.pack(pady = 10)\n",
    "\n",
    "# a button widget which will open a \n",
    "# new window on button click\n",
    "btn = Button(master, \n",
    "\t\t\ttext =\"Click to open a new window\", \n",
    "\t\t\tcommand = openNewWindow)\n",
    "btn.pack(pady = 10)\n",
    "\n",
    "# mainloop, runs infinitely\n",
    "mainloop()\n"
   ]
  },
  {
   "cell_type": "code",
   "execution_count": 3,
   "metadata": {},
   "outputs": [
    {
     "ename": "AttributeError",
     "evalue": "module 'tkinter.ttk' has no attribute 'Calendar'",
     "output_type": "error",
     "traceback": [
      "\u001b[1;31m---------------------------------------------------------------------------\u001b[0m",
      "\u001b[1;31mAttributeError\u001b[0m                            Traceback (most recent call last)",
      "Cell \u001b[1;32mIn[3], line 27\u001b[0m\n\u001b[0;32m     25\u001b[0m \u001b[38;5;28;01mif\u001b[39;00m \u001b[38;5;18m__name__\u001b[39m \u001b[38;5;241m==\u001b[39m \u001b[38;5;124m\"\u001b[39m\u001b[38;5;124m__main__\u001b[39m\u001b[38;5;124m\"\u001b[39m:\n\u001b[0;32m     26\u001b[0m     root \u001b[38;5;241m=\u001b[39m tk\u001b[38;5;241m.\u001b[39mTk()\n\u001b[1;32m---> 27\u001b[0m     app \u001b[38;5;241m=\u001b[39m \u001b[43mCalendarApp\u001b[49m\u001b[43m(\u001b[49m\u001b[43mroot\u001b[49m\u001b[43m)\u001b[49m\n\u001b[0;32m     28\u001b[0m     root\u001b[38;5;241m.\u001b[39mmainloop()\n",
      "Cell \u001b[1;32mIn[3], line 13\u001b[0m, in \u001b[0;36mCalendarApp.__init__\u001b[1;34m(self, root)\u001b[0m\n\u001b[0;32m     10\u001b[0m \u001b[38;5;28mself\u001b[39m\u001b[38;5;241m.\u001b[39mstyle \u001b[38;5;241m=\u001b[39m ttk\u001b[38;5;241m.\u001b[39mStyle()\n\u001b[0;32m     11\u001b[0m \u001b[38;5;28mself\u001b[39m\u001b[38;5;241m.\u001b[39mstyle\u001b[38;5;241m.\u001b[39mconfigure(\u001b[38;5;124m\"\u001b[39m\u001b[38;5;124mTFrame\u001b[39m\u001b[38;5;124m\"\u001b[39m, background\u001b[38;5;241m=\u001b[39m\u001b[38;5;124m\"\u001b[39m\u001b[38;5;124mlight green\u001b[39m\u001b[38;5;124m\"\u001b[39m)\n\u001b[1;32m---> 13\u001b[0m \u001b[38;5;28mself\u001b[39m\u001b[38;5;241m.\u001b[39mcalendar \u001b[38;5;241m=\u001b[39m \u001b[43mttk\u001b[49m\u001b[38;5;241;43m.\u001b[39;49m\u001b[43mCalendar\u001b[49m(\u001b[38;5;28mself\u001b[39m\u001b[38;5;241m.\u001b[39mroot, selectmode\u001b[38;5;241m=\u001b[39m\u001b[38;5;124m'\u001b[39m\u001b[38;5;124mday\u001b[39m\u001b[38;5;124m'\u001b[39m,\n\u001b[0;32m     14\u001b[0m                               year\u001b[38;5;241m=\u001b[39mdatetime\u001b[38;5;241m.\u001b[39mdate\u001b[38;5;241m.\u001b[39mtoday()\u001b[38;5;241m.\u001b[39myear,\n\u001b[0;32m     15\u001b[0m                               month\u001b[38;5;241m=\u001b[39mdatetime\u001b[38;5;241m.\u001b[39mdate\u001b[38;5;241m.\u001b[39mtoday()\u001b[38;5;241m.\u001b[39mmonth,\n\u001b[0;32m     16\u001b[0m                               day\u001b[38;5;241m=\u001b[39mdatetime\u001b[38;5;241m.\u001b[39mdate\u001b[38;5;241m.\u001b[39mtoday()\u001b[38;5;241m.\u001b[39mday)\n\u001b[0;32m     17\u001b[0m \u001b[38;5;28mself\u001b[39m\u001b[38;5;241m.\u001b[39mcalendar\u001b[38;5;241m.\u001b[39mpack(fill\u001b[38;5;241m=\u001b[39m\u001b[38;5;124m'\u001b[39m\u001b[38;5;124mboth\u001b[39m\u001b[38;5;124m'\u001b[39m, expand\u001b[38;5;241m=\u001b[39m\u001b[38;5;28;01mTrue\u001b[39;00m)\n\u001b[0;32m     19\u001b[0m \u001b[38;5;28mself\u001b[39m\u001b[38;5;241m.\u001b[39mlabel_titles \u001b[38;5;241m=\u001b[39m tk\u001b[38;5;241m.\u001b[39mLabel(\u001b[38;5;28mself\u001b[39m\u001b[38;5;241m.\u001b[39mroot, text\u001b[38;5;241m=\u001b[39m\u001b[38;5;124m\"\u001b[39m\u001b[38;5;124mCalendar\u001b[39m\u001b[38;5;124m\"\u001b[39m, font\u001b[38;5;241m=\u001b[39m(\u001b[38;5;124m\"\u001b[39m\u001b[38;5;124mMV Boli\u001b[39m\u001b[38;5;124m\"\u001b[39m, \u001b[38;5;241m24\u001b[39m))\n",
      "\u001b[1;31mAttributeError\u001b[0m: module 'tkinter.ttk' has no attribute 'Calendar'"
     ]
    }
   ],
   "source": [
    "import tkinter as tk\n",
    "from tkinter import ttk\n",
    "from datetime import datetime\n",
    "\n",
    "class CalendarApp:\n",
    "    def __init__(self, root):\n",
    "        self.root = root\n",
    "        self.root.title(\"Calendar\")\n",
    "        self.root.geometry(\"850x700\")\n",
    "        self.style = ttk.Style()\n",
    "        self.style.configure(\"TFrame\", background=\"light green\")\n",
    "\n",
    "        self.calendar = ttk.Calendar(self.root, selectmode='day',\n",
    "                                      year=datetime.date.today().year,\n",
    "                                      month=datetime.date.today().month,\n",
    "                                      day=datetime.date.today().day)\n",
    "        self.calendar.pack(fill='both', expand=True)\n",
    "\n",
    "        self.label_titles = tk.Label(self.root, text=\"Calendar\", font=(\"MV Boli\", 24))\n",
    "        self.label_titles.pack()\n",
    "\n",
    "        self.exit_button = ttk.Button(self.root, text=\"< Back\", command=self.root.destroy)\n",
    "        self.exit_button.pack()\n",
    "\n",
    "if __name__ == \"__main__\":\n",
    "    root = tk.Tk()\n",
    "    app = CalendarApp(root)\n",
    "    root.mainloop()"
   ]
  }
 ],
 "metadata": {
  "kernelspec": {
   "display_name": "Python 3",
   "language": "python",
   "name": "python3"
  },
  "language_info": {
   "codemirror_mode": {
    "name": "ipython",
    "version": 3
   },
   "file_extension": ".py",
   "mimetype": "text/x-python",
   "name": "python",
   "nbconvert_exporter": "python",
   "pygments_lexer": "ipython3",
   "version": "3.11.7"
  }
 },
 "nbformat": 4,
 "nbformat_minor": 2
}
